{
 "cells": [
  {
   "cell_type": "code",
   "execution_count": 2,
   "id": "da0ffaad-ae70-4dfc-b479-c6c4ff3cef5c",
   "metadata": {},
   "outputs": [
    {
     "name": "stderr",
     "output_type": "stream",
     "text": [
      "/ext3/miniconda3/lib/python3.9/site-packages/MDAnalysis/topology/LAMMPSParser.py:631: UserWarning: Guessed all Masses to 1.0\n",
      "  warnings.warn('Guessed all Masses to 1.0')\n"
     ]
    },
    {
     "name": "stdout",
     "output_type": "stream",
     "text": [
      "MSD did not reach 1 at temperature 1.5\n"
     ]
    },
    {
     "data": {
      "image/png": "[encoded data removed]",
      "text/plain": [
       "<Figure size 640x480 with 1 Axes>"
      ]
     },
     "metadata": {},
     "output_type": "display_data"
    }
   ],
   "source": [
    "import MDAnalysis as mda\n",
    "import numpy as np\n",
    "import matplotlib.pyplot as plt\n",
    "import os\n",
    "from MDAnalysis.analysis.rdf import InterRDF\n",
    "\n",
    "# Create output directory for figures\n",
    "figures_dir = \"./Figures/n360/\"\n",
    "os.makedirs(figures_dir, exist_ok=True)\n",
    "\n",
    "# Define the temperature files for n360\n",
    "temperature_files = {\n",
    "    1.5: \"kalj_T1.5_n360_v300_prod_10000_1\",\n",
    "    1.0: \"kalj_T1_n360_v300_prod_50000_1\",\n",
    "    0.9: \"kalj_T0.9_n360_v300_prod_150000_1\",\n",
    "    0.8: \"kalj_T0.8_n360_v300_prod_150000_1\",\n",
    "    0.7: \"kalj_T0.7_n360_v300_prod_180000_1\",\n",
    "    0.65: \"kalj_T0.65_n360_v300_prod_350000_1\",\n",
    "    0.6: \"kalj_T0.6_n360_v300_prod_1000000_1\",\n",
    "    0.55: \"kalj_T0.55_n360_v300_prod_3000000_1\",\n",
    "    0.5: \"kalj_T0.5_n360_v300_prod_10000000_1\",\n",
    "}\n",
    "\n",
    "# Target MSD value\n",
    "target_msd = 1\n",
    "\n",
    "# Containers for results\n",
    "msd1_times = []  # Times where MSD = 1\n",
    "valid_temperatures = []  # Corresponding temperatures\n",
    "\n",
    "# Compute MSD and RDF for each temperature\n",
    "for T, filename in temperature_files.items():\n",
    "    try:\n",
    "        # File paths\n",
    "        equil_file = f\"/home/ndv3235/comp-lab-class-2024/Week9-LAMMPS-SupercooledLiquids/Data/Equilibrium/{filename.replace('_prod_', '_')}.lammpstrj\"\n",
    "        prod_file = f\"/home/ndv3235/comp-lab-class-2024/Week9-LAMMPS-SupercooledLiquids/Data/Production/{filename}.unwrap.dcd\"\n",
    "\n",
    "        # Load the Universe\n",
    "        universe = mda.Universe(equil_file, prod_file, topology_format=\"LAMMPSDUMP\")\n",
    "        type1 = universe.select_atoms(\"type 1\")\n",
    "        type2 = universe.select_atoms(\"type 2\")\n",
    "\n",
    "        # Compute MSD\n",
    "        n_frames = len(universe.trajectory)\n",
    "        msd = np.zeros(n_frames)\n",
    "        time = np.arange(n_frames) * universe.trajectory.dt\n",
    "\n",
    "        initial_positions = type1.positions.copy()  # Reference positions\n",
    "\n",
    "        for ts in universe.trajectory:\n",
    "            displacements = type1.positions - initial_positions\n",
    "            squared_displacements = np.sum(displacements ** 2, axis=1)\n",
    "            msd[ts.frame] = np.mean(squared_displacements)\n",
    "\n",
    "        # Plot MSD\n",
    "        plt.figure()\n",
    "        plt.loglog(time, msd, label=f\"T={T}\")\n",
    "        plt.xlabel(\"Time (log scale)\")\n",
    "        plt.ylabel(\"MSD (log scale)\")\n",
    "        plt.title(f\"MSD for Type 1 Particles at T={T}\")\n",
    "        plt.legend()\n",
    "        plt.savefig(f\"{figures_dir}/MSD_T{T}.png\")\n",
    "        plt.close()\n",
    "\n",
    "        # Find time where MSD = 1\n",
    "        indices = np.where(msd >= target_msd)[0]\n",
    "        if len(indices) > 0:\n",
    "            time_msd1 = time[indices[0]]\n",
    "            msd1_times.append(time_msd1)\n",
    "            valid_temperatures.append(T)\n",
    "        else:\n",
    "            print(f\"MSD did not reach {target_msd} at temperature {T}\")\n",
    "\n",
    "        # Compute RDF\n",
    "        rdf_11 = InterRDF(type1, type1)\n",
    "        rdf_22 = InterRDF(type2, type2)\n",
    "        rdf_12 = InterRDF(type1, type2)\n",
    "\n",
    "        rdf_11.run()\n",
    "        rdf_22.run()\n",
    "        rdf_12.run()\n",
    "\n",
    "        # Plot RDF\n",
    "        plt.figure()\n",
    "        plt.plot(rdf_11.results.bins, rdf_11.results.rdf, label=\"g_11(r)\")\n",
    "        plt.plot(rdf_22.results.bins, rdf_22.results.rdf, label=\"g_22(r)\")\n",
    "        plt.plot(rdf_12.results.bins, rdf_12.results.rdf, label=\"g_12(r)\")\n",
    "        plt.xlabel(\"r (distance)\")\n",
    "        plt.ylabel(\"g(r)\")\n",
    "        plt.title(f\"RDF at T={T}\")\n",
    "        plt.legend()\n",
    "        plt.savefig(f\"{figures_dir}/RDF_T{T}.png\")\n",
    "        plt.close()\n",
    "\n",
    "    except Exception as e:\n",
    "        print(f\"Error processing temperature {T}: {e}\")\n",
    "        continue\n",
    "\n",
    "# Plot Time at MSD=1 vs 1/T\n",
    "inverse_temperatures = 1 / np.array(valid_temperatures)\n",
    "plt.figure()\n",
    "plt.loglog(inverse_temperatures, msd1_times, marker='o')\n",
    "plt.xlabel(\"1/T\")\n",
    "plt.ylabel(\"Time at MSD=1\")\n",
    "plt.title(\"Time at MSD=1 vs 1/Temperature\")\n",
    "plt.savefig(f\"{figures_dir}/Time_at_MSD_1_vs_1_over_T.png\")\n",
    "plt.show()"
   ]
  },
  {
   "cell_type": "code",
   "execution_count": null,
   "id": "d69177b4-d058-4385-b278-8992ab3442ba",
   "metadata": {},
   "outputs": [],
   "source": []
  }
 ],
 "metadata": {
  "kernelspec": {
   "display_name": "lab_env_2024",
   "language": "python",
   "name": "lab_env_2024"
  },
  "language_info": {
   "codemirror_mode": {
    "name": "ipython",
    "version": 3
   },
   "file_extension": ".py",
   "mimetype": "text/x-python",
   "name": "python",
   "nbconvert_exporter": "python",
   "pygments_lexer": "ipython3",
   "version": "3.9.12"
  }
 },
 "nbformat": 4,
 "nbformat_minor": 5
}
