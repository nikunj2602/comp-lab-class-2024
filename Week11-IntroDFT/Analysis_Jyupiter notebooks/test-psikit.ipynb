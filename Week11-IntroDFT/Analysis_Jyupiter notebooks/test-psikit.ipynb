{
 "cells": [
  {
   "cell_type": "code",
   "execution_count": 11,
   "id": "51e6dc76-d65e-4d58-a344-b45b8b433def",
   "metadata": {},
   "outputs": [
    {
     "name": "stdout",
     "output_type": "stream",
     "text": [
      "Defaulting to user installation because normal site-packages is not writeable\n",
      "Collecting git+https://github.com/Mishima-syk/psikit.git\n",
      "  Cloning https://github.com/Mishima-syk/psikit.git to /state/partition1/job-53537735/pip-req-build-glkcobtk\n",
      "  Running command git clone --filter=blob:none --quiet https://github.com/Mishima-syk/psikit.git /state/partition1/job-53537735/pip-req-build-glkcobtk\n",
      "  Resolved https://github.com/Mishima-syk/psikit.git to commit f57911c85b814e570215f184619bb35dbc4ac719\n",
      "  Preparing metadata (setup.py) ... \u001b[?25ldone\n",
      "\u001b[?25hRequirement already satisfied: debtcollector in /ext3/miniconda3/lib/python3.9/site-packages (from Psikit==0.2.0) (2.5.0)\n",
      "Requirement already satisfied: wrapt>=1.7.0 in /ext3/miniconda3/lib/python3.9/site-packages (from debtcollector->Psikit==0.2.0) (1.14.1)\n",
      "Note: you may need to restart the kernel to use updated packages.\n"
     ]
    }
   ],
   "source": [
    "pip install git+https://github.com/Mishima-syk/psikit.git\n"
   ]
  },
  {
   "cell_type": "code",
   "execution_count": 8,
   "id": "211c2ffc-bf68-48f2-966f-6f8e99115679",
   "metadata": {},
   "outputs": [],
   "source": [
    "import psi4\n",
    "import rdkit\n",
    "import debtcollector\n"
   ]
  },
  {
   "cell_type": "code",
   "execution_count": 9,
   "id": "ba4599ce-439a-4e77-b686-a1c65b723e14",
   "metadata": {},
   "outputs": [
    {
     "name": "stdout",
     "output_type": "stream",
     "text": [
      "Defaulting to user installation because normal site-packages is not writeable\n",
      "Requirement already satisfied: psikit in /home/ndv3235/.local/lib/python3.9/site-packages (0.2.0)\n",
      "Requirement already satisfied: debtcollector in /ext3/miniconda3/lib/python3.9/site-packages (from psikit) (2.5.0)\n",
      "Requirement already satisfied: wrapt>=1.7.0 in /ext3/miniconda3/lib/python3.9/site-packages (from debtcollector->psikit) (1.14.1)\n",
      "Note: you may need to restart the kernel to use updated packages.\n"
     ]
    }
   ],
   "source": [
    "pip install psikit"
   ]
  },
  {
   "cell_type": "code",
   "execution_count": 12,
   "id": "07a4dd6e-38a4-415c-a0e7-af5c10804435",
   "metadata": {},
   "outputs": [
    {
     "name": "stdout",
     "output_type": "stream",
     "text": [
      "SCF Energy:  -230.71227965237568\n",
      "HOMO:  -0.32848520376009327\n",
      "LUMO:  0.14565220773651286\n",
      "SCF Total Dipole Moment: 0.0\n"
     ]
    }
   ],
   "source": [
    "from psikit import Psikit\n",
    "pk=Psikit(debug=True,threads=1,memory=12)\n",
    "pk.read_from_smiles(\"c1ccccc1\")\n",
    "print(\"SCF Energy: \", pk.energy())\n",
    "print(\"HOMO: \", pk.HOMO)\n",
    "print(\"LUMO: \", pk.LUMO)\n",
    "x, y, z, total = pk.dipolemoment\n",
    "print(\"SCF Total Dipole Moment: {}\".format(total))\n",
    "# SCF Energy:  -230.712279648862\n",
    "# HOMO:  -0.32848562009092513\n",
    "# LUMO:  0.1456515222506689\n",
    "# SCF Total Dipole Moment: 3.292464934070545e-05"
   ]
  },
  {
   "cell_type": "code",
   "execution_count": null,
   "id": "b8cdbf64-353c-4e0c-90df-fe0b24fcdcea",
   "metadata": {},
   "outputs": [],
   "source": [
    "pk=Psikit(debug=True,threads=1,memory=12)\n",
    "pk.read_from_smiles(\"c1ccccc1\")\n",
    "print(\"Optimized SCF Energy: \", pk.optimize())\n",
    "# Optimizer: Optimization complete!\n",
    "# Optimized SCF Energy:  -230.71352354223438"
   ]
  },
  {
   "cell_type": "code",
   "execution_count": 37,
   "id": "ddecf317-1c26-4559-9ca0-d70286a5c157",
   "metadata": {},
   "outputs": [
    {
     "name": "stdout",
     "output_type": "stream",
     "text": [
      "Optimizer: Optimization complete!\n",
      "C ESP:-0.3098010257645733\tRESP:-0.29388215450058935\n",
      "C ESP:0.81202611136443226\tRESP:0.81202611136443203\n",
      "O ESP:-0.60417089325204865\tRESP:-0.60417089325204854\n",
      "O ESP:-0.66278321876212198\tRESP:-0.66278321876212165\n",
      "H ESP:0.10385015329224126\tRESP:0.098543862870913226\n",
      "H ESP:0.10385015329224126\tRESP:0.098543862870913226\n",
      "H ESP:0.10385015329224126\tRESP:0.098543862870913226\n",
      "H ESP:0.45317856653758798\tRESP:0.45317856653758787\n",
      "Optimizer: Optimization complete!\n"
     ]
    },
    {
     "data": {
      "text/plain": [
       "array([-0.29260204,  0.33430332, -0.3509536 , -0.29196869,  0.12262415,\n",
       "        0.12105795,  0.12150276,  0.23603616])"
      ]
     },
     "execution_count": 37,
     "metadata": {},
     "output_type": "execute_result"
    }
   ],
   "source": [
    "# REF http://ambermd.org/tutorials/advanced/tutorial1/files/resp_paper_jacs.pdf\n",
    "pk=Psikit(debug=True,threads=1,memory=12)\n",
    "pk.read_from_smiles(\"CC(=O)O\")\n",
    "pk.optimize()\n",
    "# Optimizer: Optimization complete!\n",
    "# -227.82180859253418\n",
    "pk.calc_resp_charges()\n",
    "# array([-0.32506898,  0.83672649, -0.61924915, -0.66135715,  0.10450057,\n",
    "#    0.10478188,  0.10780051,  0.45186584])\n",
    "\n",
    "for atom in pk.mol.GetAtoms(): \n",
    "    print(atom.GetSymbol(), \"ESP:{}\\tRESP:{}\".format(atom.GetProp(\"EP\"), atom.GetProp(\"RESP\"))) \n",
    "\n",
    "# C ESP:-0.49662019588648315\tRESP:-0.3250689814483399\n",
    "# C ESP:0.91473263536048643\t\tRESP:0.83672648554100837\n",
    "# O ESP:-0.63823808477114718\tRESP:-0.61924915363703359\n",
    "# O ESP:-0.6763331997116846\t\tRESP:-0.66135714989354499\n",
    "# H ESP:0.14625849864628995\t\tRESP:0.10450056830656008\n",
    "# H ESP:0.14578513969681847\t\tRESP:0.10478187811883517\n",
    "# H ESP:0.1530843954112609\t\tRESP:0.1078005104750676\n",
    "# H ESP:0.45133081125445906\t\tRESP:0.45186584253744722\n",
    "\n",
    "### Compute Mulliken charges and Lowdin charges\n",
    "\n",
    "pk = Psikit()\n",
    "pk.read_from_smiles(\"CC(=O)O\")\n",
    "pk.optimize() # or pk.energy()\n",
    "\n",
    "pk.calc_mulliken_charges()\n",
    "# array([-0.42203029,  0.72794785, -0.55419051, -0.59333358,  0.16369722,\n",
    "#    0.1636994 ,  0.15462075,  0.35958916])\n",
    "\n",
    "pk.calc_lowdin_charges()\n",
    "#array([-0.30006577,  0.33900448, -0.35983788, -0.28463832,  0.12439944,\n",
    "#    0.12810672,  0.11935266,  0.23367866])"
   ]
  },
  {
   "cell_type": "code",
   "execution_count": null,
   "id": "b01840b4-7571-40c0-bb43-f00b35b9dd14",
   "metadata": {},
   "outputs": [],
   "source": []
  }
 ],
 "metadata": {
  "kernelspec": {
   "display_name": "lab_env_2024",
   "language": "python",
   "name": "lab_env_2024"
  },
  "language_info": {
   "codemirror_mode": {
    "name": "ipython",
    "version": 3
   },
   "file_extension": ".py",
   "mimetype": "text/x-python",
   "name": "python",
   "nbconvert_exporter": "python",
   "pygments_lexer": "ipython3",
   "version": "3.9.12"
  }
 },
 "nbformat": 4,
 "nbformat_minor": 5
}
